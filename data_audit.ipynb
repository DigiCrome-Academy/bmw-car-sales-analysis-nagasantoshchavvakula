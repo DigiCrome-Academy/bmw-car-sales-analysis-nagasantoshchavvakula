{
 "cells": [
  {
   "cell_type": "markdown",
   "id": "0f307a81",
   "metadata": {},
   "source": [
    "# ---------------------------------------------------------\n",
    "# Task: Data Audit\n",
    "# ---------------------------------------------------------\n",
    "# 1. Load the provided CSV file (sales_data.csv)\n",
    "# 2. Display the first few rows of the dataset\n",
    "# 3. Print all column names and their data types\n",
    "# 4. Identify columns with spaces or special characters \n",
    "#    (e.g., Engine Size (L))\n",
    "# 5. Suggest sanitized column names by replacing spaces \n",
    "#    or special characters with underscores (_)\n",
    "# ---------------------------------------------------------"
   ]
  },
  {
   "cell_type": "markdown",
   "id": "775b8c5d",
   "metadata": {},
   "source": [
    "**Importing libraries**"
   ]
  },
  {
   "cell_type": "code",
   "execution_count": 12,
   "id": "70809eac",
   "metadata": {},
   "outputs": [],
   "source": [
    "import pandas as pd\n",
    "import re"
   ]
  },
  {
   "cell_type": "markdown",
   "id": "b4bd92a6",
   "metadata": {},
   "source": [
    "**Loading csv**"
   ]
  },
  {
   "cell_type": "code",
   "execution_count": 13,
   "id": "82f12269",
   "metadata": {},
   "outputs": [],
   "source": [
    "df=pd.read_csv('BMW sales data (2010-2024) (1).csv')\n"
   ]
  },
  {
   "cell_type": "markdown",
   "id": "e449deb3",
   "metadata": {},
   "source": [
    "**Diplaying first few rows of the dataset**"
   ]
  },
  {
   "cell_type": "code",
   "execution_count": 17,
   "id": "eed1ea4f",
   "metadata": {},
   "outputs": [
    {
     "name": "stdout",
     "output_type": "stream",
     "text": [
      "Few rows of the dataset:\n"
     ]
    },
    {
     "data": {
      "text/html": [
       "<div>\n",
       "<style scoped>\n",
       "    .dataframe tbody tr th:only-of-type {\n",
       "        vertical-align: middle;\n",
       "    }\n",
       "\n",
       "    .dataframe tbody tr th {\n",
       "        vertical-align: top;\n",
       "    }\n",
       "\n",
       "    .dataframe thead th {\n",
       "        text-align: right;\n",
       "    }\n",
       "</style>\n",
       "<table border=\"1\" class=\"dataframe\">\n",
       "  <thead>\n",
       "    <tr style=\"text-align: right;\">\n",
       "      <th></th>\n",
       "      <th>Model</th>\n",
       "      <th>Year</th>\n",
       "      <th>Region</th>\n",
       "      <th>Color</th>\n",
       "      <th>Fuel_Type</th>\n",
       "      <th>Transmission</th>\n",
       "      <th>Engine_Size_L</th>\n",
       "      <th>Mileage_KM</th>\n",
       "      <th>Price_USD</th>\n",
       "      <th>Sales_Volume</th>\n",
       "      <th>Sales_Classification</th>\n",
       "    </tr>\n",
       "  </thead>\n",
       "  <tbody>\n",
       "    <tr>\n",
       "      <th>0</th>\n",
       "      <td>5 Series</td>\n",
       "      <td>2016</td>\n",
       "      <td>Asia</td>\n",
       "      <td>Red</td>\n",
       "      <td>Petrol</td>\n",
       "      <td>Manual</td>\n",
       "      <td>3.5</td>\n",
       "      <td>151748</td>\n",
       "      <td>98740</td>\n",
       "      <td>8300</td>\n",
       "      <td>High</td>\n",
       "    </tr>\n",
       "    <tr>\n",
       "      <th>1</th>\n",
       "      <td>i8</td>\n",
       "      <td>2013</td>\n",
       "      <td>North America</td>\n",
       "      <td>Red</td>\n",
       "      <td>Hybrid</td>\n",
       "      <td>Automatic</td>\n",
       "      <td>1.6</td>\n",
       "      <td>121671</td>\n",
       "      <td>79219</td>\n",
       "      <td>3428</td>\n",
       "      <td>Low</td>\n",
       "    </tr>\n",
       "    <tr>\n",
       "      <th>2</th>\n",
       "      <td>5 Series</td>\n",
       "      <td>2022</td>\n",
       "      <td>North America</td>\n",
       "      <td>Blue</td>\n",
       "      <td>Petrol</td>\n",
       "      <td>Automatic</td>\n",
       "      <td>4.5</td>\n",
       "      <td>10991</td>\n",
       "      <td>113265</td>\n",
       "      <td>6994</td>\n",
       "      <td>Low</td>\n",
       "    </tr>\n",
       "    <tr>\n",
       "      <th>3</th>\n",
       "      <td>X3</td>\n",
       "      <td>2024</td>\n",
       "      <td>Middle East</td>\n",
       "      <td>Blue</td>\n",
       "      <td>Petrol</td>\n",
       "      <td>Automatic</td>\n",
       "      <td>1.7</td>\n",
       "      <td>27255</td>\n",
       "      <td>60971</td>\n",
       "      <td>4047</td>\n",
       "      <td>Low</td>\n",
       "    </tr>\n",
       "    <tr>\n",
       "      <th>4</th>\n",
       "      <td>7 Series</td>\n",
       "      <td>2020</td>\n",
       "      <td>South America</td>\n",
       "      <td>Black</td>\n",
       "      <td>Diesel</td>\n",
       "      <td>Manual</td>\n",
       "      <td>2.1</td>\n",
       "      <td>122131</td>\n",
       "      <td>49898</td>\n",
       "      <td>3080</td>\n",
       "      <td>Low</td>\n",
       "    </tr>\n",
       "    <tr>\n",
       "      <th>5</th>\n",
       "      <td>5 Series</td>\n",
       "      <td>2017</td>\n",
       "      <td>Middle East</td>\n",
       "      <td>Silver</td>\n",
       "      <td>Diesel</td>\n",
       "      <td>Manual</td>\n",
       "      <td>1.9</td>\n",
       "      <td>171362</td>\n",
       "      <td>42926</td>\n",
       "      <td>1232</td>\n",
       "      <td>Low</td>\n",
       "    </tr>\n",
       "    <tr>\n",
       "      <th>6</th>\n",
       "      <td>i8</td>\n",
       "      <td>2022</td>\n",
       "      <td>Europe</td>\n",
       "      <td>White</td>\n",
       "      <td>Diesel</td>\n",
       "      <td>Manual</td>\n",
       "      <td>1.8</td>\n",
       "      <td>196741</td>\n",
       "      <td>55064</td>\n",
       "      <td>7949</td>\n",
       "      <td>High</td>\n",
       "    </tr>\n",
       "    <tr>\n",
       "      <th>7</th>\n",
       "      <td>M5</td>\n",
       "      <td>2014</td>\n",
       "      <td>Asia</td>\n",
       "      <td>Black</td>\n",
       "      <td>Diesel</td>\n",
       "      <td>Automatic</td>\n",
       "      <td>1.6</td>\n",
       "      <td>121156</td>\n",
       "      <td>102778</td>\n",
       "      <td>632</td>\n",
       "      <td>Low</td>\n",
       "    </tr>\n",
       "    <tr>\n",
       "      <th>8</th>\n",
       "      <td>X3</td>\n",
       "      <td>2016</td>\n",
       "      <td>South America</td>\n",
       "      <td>White</td>\n",
       "      <td>Diesel</td>\n",
       "      <td>Automatic</td>\n",
       "      <td>1.7</td>\n",
       "      <td>48073</td>\n",
       "      <td>116482</td>\n",
       "      <td>8944</td>\n",
       "      <td>High</td>\n",
       "    </tr>\n",
       "    <tr>\n",
       "      <th>9</th>\n",
       "      <td>i8</td>\n",
       "      <td>2019</td>\n",
       "      <td>Europe</td>\n",
       "      <td>White</td>\n",
       "      <td>Electric</td>\n",
       "      <td>Manual</td>\n",
       "      <td>3.0</td>\n",
       "      <td>35700</td>\n",
       "      <td>96257</td>\n",
       "      <td>4411</td>\n",
       "      <td>Low</td>\n",
       "    </tr>\n",
       "  </tbody>\n",
       "</table>\n",
       "</div>"
      ],
      "text/plain": [
       "      Model  Year         Region   Color Fuel_Type Transmission  \\\n",
       "0  5 Series  2016           Asia     Red    Petrol       Manual   \n",
       "1        i8  2013  North America     Red    Hybrid    Automatic   \n",
       "2  5 Series  2022  North America    Blue    Petrol    Automatic   \n",
       "3        X3  2024    Middle East    Blue    Petrol    Automatic   \n",
       "4  7 Series  2020  South America   Black    Diesel       Manual   \n",
       "5  5 Series  2017    Middle East  Silver    Diesel       Manual   \n",
       "6        i8  2022         Europe   White    Diesel       Manual   \n",
       "7        M5  2014           Asia   Black    Diesel    Automatic   \n",
       "8        X3  2016  South America   White    Diesel    Automatic   \n",
       "9        i8  2019         Europe   White  Electric       Manual   \n",
       "\n",
       "   Engine_Size_L  Mileage_KM  Price_USD  Sales_Volume Sales_Classification  \n",
       "0            3.5      151748      98740          8300                 High  \n",
       "1            1.6      121671      79219          3428                  Low  \n",
       "2            4.5       10991     113265          6994                  Low  \n",
       "3            1.7       27255      60971          4047                  Low  \n",
       "4            2.1      122131      49898          3080                  Low  \n",
       "5            1.9      171362      42926          1232                  Low  \n",
       "6            1.8      196741      55064          7949                 High  \n",
       "7            1.6      121156     102778           632                  Low  \n",
       "8            1.7       48073     116482          8944                 High  \n",
       "9            3.0       35700      96257          4411                  Low  "
      ]
     },
     "execution_count": 17,
     "metadata": {},
     "output_type": "execute_result"
    }
   ],
   "source": [
    "print('Few rows of the dataset:')\n",
    "df.head(10)"
   ]
  },
  {
   "cell_type": "markdown",
   "id": "7295e2ec",
   "metadata": {},
   "source": [
    "**Column names and data types**"
   ]
  },
  {
   "cell_type": "code",
   "execution_count": null,
   "id": "348d5716",
   "metadata": {},
   "outputs": [
    {
     "name": "stdout",
     "output_type": "stream",
     "text": [
      "Column names and data types\n",
      "Model                    object\n",
      "Year                      int64\n",
      "Region                   object\n",
      "Color                    object\n",
      "Fuel_Type                object\n",
      "Transmission             object\n",
      "Engine_Size_L           float64\n",
      "Mileage_KM                int64\n",
      "Price_USD                 int64\n",
      "Sales_Volume              int64\n",
      "Sales_Classification     object\n",
      "dtype: object\n"
     ]
    }
   ],
   "source": [
    "print('Column names and data types:')\n",
    "print(df.dtypes)"
   ]
  },
  {
   "cell_type": "markdown",
   "id": "34d19b5d",
   "metadata": {},
   "source": [
    "**Identify columns needing sanitation**"
   ]
  },
  {
   "cell_type": "code",
   "execution_count": 23,
   "id": "a83f278c",
   "metadata": {},
   "outputs": [
    {
     "name": "stdout",
     "output_type": "stream",
     "text": [
      "\n",
      "Columns needing sanitation: []\n"
     ]
    }
   ],
   "source": [
    "columns_to_fix = [col for col in df.columns if not re.match(r'^[A-Za-z0-9_]+$', col)]\n",
    "print(\"\\nColumns needing sanitation:\", columns_to_fix)"
   ]
  },
  {
   "cell_type": "markdown",
   "id": "879a6f3e",
   "metadata": {},
   "source": [
    "**Suggest sanitized names**"
   ]
  },
  {
   "cell_type": "code",
   "execution_count": 27,
   "id": "886d2555",
   "metadata": {},
   "outputs": [
    {
     "name": "stdout",
     "output_type": "stream",
     "text": [
      "\n",
      "Suggested sanitized names: {}\n"
     ]
    }
   ],
   "source": [
    "suggested_names = {col: re.sub(r'\\W+', '_', col.strip()) for col in columns_to_fix}\n",
    "print(\"\\nSuggested sanitized names:\", suggested_names)"
   ]
  }
 ],
 "metadata": {
  "kernelspec": {
   "display_name": "myVenv",
   "language": "python",
   "name": "python3"
  },
  "language_info": {
   "codemirror_mode": {
    "name": "ipython",
    "version": 3
   },
   "file_extension": ".py",
   "mimetype": "text/x-python",
   "name": "python",
   "nbconvert_exporter": "python",
   "pygments_lexer": "ipython3",
   "version": "3.12.7"
  }
 },
 "nbformat": 4,
 "nbformat_minor": 5
}
